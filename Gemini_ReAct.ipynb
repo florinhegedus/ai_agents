{
  "nbformat": 4,
  "nbformat_minor": 0,
  "metadata": {
    "colab": {
      "provenance": []
    },
    "kernelspec": {
      "name": "python3",
      "display_name": "Python 3"
    },
    "language_info": {
      "name": "python"
    }
  },
  "cells": [
    {
      "cell_type": "code",
      "source": [
        "! pip install langgraph langchain-google-genai geopy requests"
      ],
      "metadata": {
        "colab": {
          "base_uri": "https://localhost:8080/"
        },
        "id": "0TkqfF0ff_U8",
        "outputId": "bf5c7cca-6dd1-4089-9554-c1978821064b"
      },
      "execution_count": 8,
      "outputs": [
        {
          "output_type": "stream",
          "name": "stdout",
          "text": [
            "Requirement already satisfied: langgraph in /usr/local/lib/python3.11/dist-packages (0.4.5)\n",
            "Requirement already satisfied: langchain-google-genai in /usr/local/lib/python3.11/dist-packages (2.1.4)\n",
            "Requirement already satisfied: geopy in /usr/local/lib/python3.11/dist-packages (2.4.1)\n",
            "Requirement already satisfied: requests in /usr/local/lib/python3.11/dist-packages (2.32.3)\n",
            "Requirement already satisfied: langchain-core>=0.1 in /usr/local/lib/python3.11/dist-packages (from langgraph) (0.3.59)\n",
            "Requirement already satisfied: langgraph-checkpoint<3.0.0,>=2.0.26 in /usr/local/lib/python3.11/dist-packages (from langgraph) (2.0.26)\n",
            "Requirement already satisfied: langgraph-prebuilt>=0.1.8 in /usr/local/lib/python3.11/dist-packages (from langgraph) (0.1.8)\n",
            "Requirement already satisfied: langgraph-sdk>=0.1.42 in /usr/local/lib/python3.11/dist-packages (from langgraph) (0.1.69)\n",
            "Requirement already satisfied: pydantic>=2.7.4 in /usr/local/lib/python3.11/dist-packages (from langgraph) (2.11.4)\n",
            "Requirement already satisfied: xxhash<4.0.0,>=3.5.0 in /usr/local/lib/python3.11/dist-packages (from langgraph) (3.5.0)\n",
            "Requirement already satisfied: filetype<2.0.0,>=1.2.0 in /usr/local/lib/python3.11/dist-packages (from langchain-google-genai) (1.2.0)\n",
            "Requirement already satisfied: google-ai-generativelanguage<0.7.0,>=0.6.18 in /usr/local/lib/python3.11/dist-packages (from langchain-google-genai) (0.6.18)\n",
            "Requirement already satisfied: geographiclib<3,>=1.52 in /usr/local/lib/python3.11/dist-packages (from geopy) (2.0)\n",
            "Requirement already satisfied: charset-normalizer<4,>=2 in /usr/local/lib/python3.11/dist-packages (from requests) (3.4.2)\n",
            "Requirement already satisfied: idna<4,>=2.5 in /usr/local/lib/python3.11/dist-packages (from requests) (3.10)\n",
            "Requirement already satisfied: urllib3<3,>=1.21.1 in /usr/local/lib/python3.11/dist-packages (from requests) (2.4.0)\n",
            "Requirement already satisfied: certifi>=2017.4.17 in /usr/local/lib/python3.11/dist-packages (from requests) (2025.4.26)\n",
            "Requirement already satisfied: google-api-core!=2.0.*,!=2.1.*,!=2.10.*,!=2.2.*,!=2.3.*,!=2.4.*,!=2.5.*,!=2.6.*,!=2.7.*,!=2.8.*,!=2.9.*,<3.0.0,>=1.34.1 in /usr/local/lib/python3.11/dist-packages (from google-api-core[grpc]!=2.0.*,!=2.1.*,!=2.10.*,!=2.2.*,!=2.3.*,!=2.4.*,!=2.5.*,!=2.6.*,!=2.7.*,!=2.8.*,!=2.9.*,<3.0.0,>=1.34.1->google-ai-generativelanguage<0.7.0,>=0.6.18->langchain-google-genai) (2.24.2)\n",
            "Requirement already satisfied: google-auth!=2.24.0,!=2.25.0,<3.0.0,>=2.14.1 in /usr/local/lib/python3.11/dist-packages (from google-ai-generativelanguage<0.7.0,>=0.6.18->langchain-google-genai) (2.38.0)\n",
            "Requirement already satisfied: proto-plus<2.0.0,>=1.22.3 in /usr/local/lib/python3.11/dist-packages (from google-ai-generativelanguage<0.7.0,>=0.6.18->langchain-google-genai) (1.26.1)\n",
            "Requirement already satisfied: protobuf!=4.21.0,!=4.21.1,!=4.21.2,!=4.21.3,!=4.21.4,!=4.21.5,<7.0.0,>=3.20.2 in /usr/local/lib/python3.11/dist-packages (from google-ai-generativelanguage<0.7.0,>=0.6.18->langchain-google-genai) (5.29.4)\n",
            "Requirement already satisfied: langsmith<0.4,>=0.1.125 in /usr/local/lib/python3.11/dist-packages (from langchain-core>=0.1->langgraph) (0.3.42)\n",
            "Requirement already satisfied: tenacity!=8.4.0,<10.0.0,>=8.1.0 in /usr/local/lib/python3.11/dist-packages (from langchain-core>=0.1->langgraph) (9.1.2)\n",
            "Requirement already satisfied: jsonpatch<2.0,>=1.33 in /usr/local/lib/python3.11/dist-packages (from langchain-core>=0.1->langgraph) (1.33)\n",
            "Requirement already satisfied: PyYAML>=5.3 in /usr/local/lib/python3.11/dist-packages (from langchain-core>=0.1->langgraph) (6.0.2)\n",
            "Requirement already satisfied: packaging<25,>=23.2 in /usr/local/lib/python3.11/dist-packages (from langchain-core>=0.1->langgraph) (24.2)\n",
            "Requirement already satisfied: typing-extensions>=4.7 in /usr/local/lib/python3.11/dist-packages (from langchain-core>=0.1->langgraph) (4.13.2)\n",
            "Requirement already satisfied: ormsgpack<2.0.0,>=1.8.0 in /usr/local/lib/python3.11/dist-packages (from langgraph-checkpoint<3.0.0,>=2.0.26->langgraph) (1.9.1)\n",
            "Requirement already satisfied: httpx>=0.25.2 in /usr/local/lib/python3.11/dist-packages (from langgraph-sdk>=0.1.42->langgraph) (0.28.1)\n",
            "Requirement already satisfied: orjson>=3.10.1 in /usr/local/lib/python3.11/dist-packages (from langgraph-sdk>=0.1.42->langgraph) (3.10.18)\n",
            "Requirement already satisfied: annotated-types>=0.6.0 in /usr/local/lib/python3.11/dist-packages (from pydantic>=2.7.4->langgraph) (0.7.0)\n",
            "Requirement already satisfied: pydantic-core==2.33.2 in /usr/local/lib/python3.11/dist-packages (from pydantic>=2.7.4->langgraph) (2.33.2)\n",
            "Requirement already satisfied: typing-inspection>=0.4.0 in /usr/local/lib/python3.11/dist-packages (from pydantic>=2.7.4->langgraph) (0.4.0)\n",
            "Requirement already satisfied: googleapis-common-protos<2.0.0,>=1.56.2 in /usr/local/lib/python3.11/dist-packages (from google-api-core!=2.0.*,!=2.1.*,!=2.10.*,!=2.2.*,!=2.3.*,!=2.4.*,!=2.5.*,!=2.6.*,!=2.7.*,!=2.8.*,!=2.9.*,<3.0.0,>=1.34.1->google-api-core[grpc]!=2.0.*,!=2.1.*,!=2.10.*,!=2.2.*,!=2.3.*,!=2.4.*,!=2.5.*,!=2.6.*,!=2.7.*,!=2.8.*,!=2.9.*,<3.0.0,>=1.34.1->google-ai-generativelanguage<0.7.0,>=0.6.18->langchain-google-genai) (1.70.0)\n",
            "Requirement already satisfied: grpcio<2.0dev,>=1.33.2 in /usr/local/lib/python3.11/dist-packages (from google-api-core[grpc]!=2.0.*,!=2.1.*,!=2.10.*,!=2.2.*,!=2.3.*,!=2.4.*,!=2.5.*,!=2.6.*,!=2.7.*,!=2.8.*,!=2.9.*,<3.0.0,>=1.34.1->google-ai-generativelanguage<0.7.0,>=0.6.18->langchain-google-genai) (1.71.0)\n",
            "Requirement already satisfied: grpcio-status<2.0.dev0,>=1.33.2 in /usr/local/lib/python3.11/dist-packages (from google-api-core[grpc]!=2.0.*,!=2.1.*,!=2.10.*,!=2.2.*,!=2.3.*,!=2.4.*,!=2.5.*,!=2.6.*,!=2.7.*,!=2.8.*,!=2.9.*,<3.0.0,>=1.34.1->google-ai-generativelanguage<0.7.0,>=0.6.18->langchain-google-genai) (1.71.0)\n",
            "Requirement already satisfied: cachetools<6.0,>=2.0.0 in /usr/local/lib/python3.11/dist-packages (from google-auth!=2.24.0,!=2.25.0,<3.0.0,>=2.14.1->google-ai-generativelanguage<0.7.0,>=0.6.18->langchain-google-genai) (5.5.2)\n",
            "Requirement already satisfied: pyasn1-modules>=0.2.1 in /usr/local/lib/python3.11/dist-packages (from google-auth!=2.24.0,!=2.25.0,<3.0.0,>=2.14.1->google-ai-generativelanguage<0.7.0,>=0.6.18->langchain-google-genai) (0.4.2)\n",
            "Requirement already satisfied: rsa<5,>=3.1.4 in /usr/local/lib/python3.11/dist-packages (from google-auth!=2.24.0,!=2.25.0,<3.0.0,>=2.14.1->google-ai-generativelanguage<0.7.0,>=0.6.18->langchain-google-genai) (4.9.1)\n",
            "Requirement already satisfied: anyio in /usr/local/lib/python3.11/dist-packages (from httpx>=0.25.2->langgraph-sdk>=0.1.42->langgraph) (4.9.0)\n",
            "Requirement already satisfied: httpcore==1.* in /usr/local/lib/python3.11/dist-packages (from httpx>=0.25.2->langgraph-sdk>=0.1.42->langgraph) (1.0.9)\n",
            "Requirement already satisfied: h11>=0.16 in /usr/local/lib/python3.11/dist-packages (from httpcore==1.*->httpx>=0.25.2->langgraph-sdk>=0.1.42->langgraph) (0.16.0)\n",
            "Requirement already satisfied: jsonpointer>=1.9 in /usr/local/lib/python3.11/dist-packages (from jsonpatch<2.0,>=1.33->langchain-core>=0.1->langgraph) (3.0.0)\n",
            "Requirement already satisfied: requests-toolbelt<2.0.0,>=1.0.0 in /usr/local/lib/python3.11/dist-packages (from langsmith<0.4,>=0.1.125->langchain-core>=0.1->langgraph) (1.0.0)\n",
            "Requirement already satisfied: zstandard<0.24.0,>=0.23.0 in /usr/local/lib/python3.11/dist-packages (from langsmith<0.4,>=0.1.125->langchain-core>=0.1->langgraph) (0.23.0)\n",
            "Requirement already satisfied: pyasn1<0.7.0,>=0.6.1 in /usr/local/lib/python3.11/dist-packages (from pyasn1-modules>=0.2.1->google-auth!=2.24.0,!=2.25.0,<3.0.0,>=2.14.1->google-ai-generativelanguage<0.7.0,>=0.6.18->langchain-google-genai) (0.6.1)\n",
            "Requirement already satisfied: sniffio>=1.1 in /usr/local/lib/python3.11/dist-packages (from anyio->httpx>=0.25.2->langgraph-sdk>=0.1.42->langgraph) (1.3.1)\n"
          ]
        }
      ]
    },
    {
      "cell_type": "code",
      "source": [
        "from google.colab import userdata\n",
        "\n",
        "# Read your API key from the environment variable or set it manually\n",
        "api_key = userdata.get('GEMINI_API_KEY')"
      ],
      "metadata": {
        "id": "XEFQfjbagW5j"
      },
      "execution_count": 9,
      "outputs": []
    },
    {
      "cell_type": "code",
      "source": [
        "from typing import Annotated,Sequence, TypedDict\n",
        "\n",
        "from langchain_core.messages import BaseMessage\n",
        "from langgraph.graph.message import add_messages # helper function to add messages to the state\n",
        "\n",
        "\n",
        "class AgentState(TypedDict):\n",
        "    \"\"\"The state of the agent.\"\"\"\n",
        "    messages: Annotated[Sequence[BaseMessage], add_messages]\n",
        "    number_of_steps: int"
      ],
      "metadata": {
        "id": "OQHcCrxgfmVO"
      },
      "execution_count": 10,
      "outputs": []
    },
    {
      "cell_type": "code",
      "source": [
        "from langchain_core.tools import tool\n",
        "from geopy.geocoders import Nominatim\n",
        "from pydantic import BaseModel, Field\n",
        "import requests\n",
        "\n",
        "geolocator = Nominatim(user_agent=\"weather-app\")\n",
        "\n",
        "class SearchInput(BaseModel):\n",
        "    location:str = Field(description=\"The city and state, e.g., San Francisco\")\n",
        "    date:str = Field(description=\"the forecasting date for when to get the weather format (yyyy-mm-dd)\")\n",
        "\n",
        "@tool(\"get_weather_forecast\", args_schema=SearchInput, return_direct=True)\n",
        "def get_weather_forecast(location: str, date: str):\n",
        "    \"\"\"Retrieves the weather using Open-Meteo API for a given location (city) and a date (yyyy-mm-dd). Returns a list dictionary with the time and temperature for each hour.\"\"\"\n",
        "    location = geolocator.geocode(location)\n",
        "    if location:\n",
        "        try:\n",
        "            response = requests.get(f\"https://api.open-meteo.com/v1/forecast?latitude={location.latitude}&longitude={location.longitude}&hourly=temperature_2m&start_date={date}&end_date={date}\")\n",
        "            data = response.json()\n",
        "            return {time: temp for time, temp in zip(data[\"hourly\"][\"time\"], data[\"hourly\"][\"temperature_2m\"])}\n",
        "        except Exception as e:\n",
        "            return {\"error\": str(e)}\n",
        "    else:\n",
        "        return {\"error\": \"Location not found\"}\n",
        "\n",
        "tools = [get_weather_forecast]"
      ],
      "metadata": {
        "id": "tyos_jdUf8oW"
      },
      "execution_count": 11,
      "outputs": []
    },
    {
      "cell_type": "code",
      "source": [
        "from datetime import datetime\n",
        "from langchain_google_genai import ChatGoogleGenerativeAI\n",
        "\n",
        "# Create LLM class\n",
        "llm = ChatGoogleGenerativeAI(\n",
        "    model= \"gemini-2.5-pro-preview-05-06\",\n",
        "    temperature=1.0,\n",
        "    max_retries=2,\n",
        "    google_api_key=api_key,\n",
        ")\n",
        "\n",
        "# Bind tools to the model\n",
        "model = llm.bind_tools([get_weather_forecast])\n",
        "\n",
        "# Test the model with tools\n",
        "res=model.invoke(f\"What is the weather in Berlin on {datetime.today()}?\")\n",
        "\n",
        "print(res)"
      ],
      "metadata": {
        "colab": {
          "base_uri": "https://localhost:8080/"
        },
        "id": "DWi8zm5rgNJa",
        "outputId": "55df3216-e491-481f-a972-78397d8a1110"
      },
      "execution_count": 12,
      "outputs": [
        {
          "output_type": "stream",
          "name": "stdout",
          "text": [
            "content='' additional_kwargs={'function_call': {'name': 'get_weather_forecast', 'arguments': '{\"date\": \"2025-05-17\", \"location\": \"Berlin\"}'}} response_metadata={'prompt_feedback': {'block_reason': 0, 'safety_ratings': []}, 'finish_reason': 'STOP', 'model_name': 'models/gemini-2.5-pro-preview-05-06', 'safety_ratings': []} id='run--89851631-e0a3-4d9e-9e9c-feec41af9ebe-0' tool_calls=[{'name': 'get_weather_forecast', 'args': {'date': '2025-05-17', 'location': 'Berlin'}, 'id': '4c8522be-98af-4f60-8202-e5b85274b18e', 'type': 'tool_call'}] usage_metadata={'input_tokens': 148, 'output_tokens': 31, 'total_tokens': 522, 'input_token_details': {'cache_read': 0}, 'output_token_details': {'reasoning': 343}}\n"
          ]
        }
      ]
    },
    {
      "cell_type": "code",
      "source": [
        "from langchain_core.messages import ToolMessage\n",
        "from langchain_core.runnables import RunnableConfig\n",
        "\n",
        "tools_by_name = {tool.name: tool for tool in tools}\n",
        "\n",
        "# Define our tool node\n",
        "def call_tool(state: AgentState):\n",
        "    outputs = []\n",
        "    # Iterate over the tool calls in the last message\n",
        "    for tool_call in state[\"messages\"][-1].tool_calls:\n",
        "        # Get the tool by name\n",
        "        tool_result = tools_by_name[tool_call[\"name\"]].invoke(tool_call[\"args\"])\n",
        "        outputs.append(\n",
        "            ToolMessage(\n",
        "                content=tool_result,\n",
        "                name=tool_call[\"name\"],\n",
        "                tool_call_id=tool_call[\"id\"],\n",
        "            )\n",
        "        )\n",
        "    return {\"messages\": outputs}\n",
        "\n",
        "def call_model(\n",
        "    state: AgentState,\n",
        "    config: RunnableConfig,\n",
        "):\n",
        "    # Invoke the model with the system prompt and the messages\n",
        "    response = model.invoke(state[\"messages\"], config)\n",
        "    # We return a list, because this will get added to the existing messages state using the add_messages reducer\n",
        "    return {\"messages\": [response]}\n",
        "\n",
        "\n",
        "# Define the conditional edge that determines whether to continue or not\n",
        "def should_continue(state: AgentState):\n",
        "    messages = state[\"messages\"]\n",
        "    # If the last message is not a tool call, then we finish\n",
        "    if not messages[-1].tool_calls:\n",
        "        return \"end\"\n",
        "    # default to continue\n",
        "    return \"continue\""
      ],
      "metadata": {
        "id": "YNsz7z-MgSpk"
      },
      "execution_count": 13,
      "outputs": []
    },
    {
      "cell_type": "code",
      "source": [
        "from langgraph.graph import StateGraph, END\n",
        "\n",
        "# Define a new graph with our state\n",
        "workflow = StateGraph(AgentState)\n",
        "\n",
        "# 1. Add our nodes\n",
        "workflow.add_node(\"llm\", call_model)\n",
        "workflow.add_node(\"tools\",  call_tool)\n",
        "# 2. Set the entrypoint as `agent`, this is the first node called\n",
        "workflow.set_entry_point(\"llm\")\n",
        "# 3. Add a conditional edge after the `llm` node is called.\n",
        "workflow.add_conditional_edges(\n",
        "    # Edge is used after the `llm` node is called.\n",
        "    \"llm\",\n",
        "    # The function that will determine which node is called next.\n",
        "    should_continue,\n",
        "    # Mapping for where to go next, keys are strings from the function return, and the values are other nodes.\n",
        "    # END is a special node marking that the graph is finish.\n",
        "    {\n",
        "        # If `tools`, then we call the tool node.\n",
        "        \"continue\": \"tools\",\n",
        "        # Otherwise we finish.\n",
        "        \"end\": END,\n",
        "    },\n",
        ")\n",
        "# 4. Add a normal edge after `tools` is called, `llm` node is called next.\n",
        "workflow.add_edge(\"tools\", \"llm\")\n",
        "\n",
        "# Now we can compile and visualize our graph\n",
        "graph = workflow.compile()"
      ],
      "metadata": {
        "id": "V2qG2FMIheu5"
      },
      "execution_count": 14,
      "outputs": []
    },
    {
      "cell_type": "code",
      "source": [
        "from IPython.display import Image, display\n",
        "\n",
        "display(Image(graph.get_graph().draw_mermaid_png()))"
      ],
      "metadata": {
        "colab": {
          "base_uri": "https://localhost:8080/",
          "height": 290
        },
        "id": "pC4mVgkAhgWe",
        "outputId": "901eb265-1476-44d1-9c01-019cdfd45019"
      },
      "execution_count": 15,
      "outputs": [
        {
          "output_type": "display_data",
          "data": {
            "image/png": "[encoded data removed]",
            "text/plain": [
              "<IPython.core.display.Image object>"
            ]
          },
          "metadata": {}
        }
      ]
    },
    {
      "cell_type": "code",
      "source": [
        "from datetime import datetime\n",
        "# Create our initial message dictionary\n",
        "inputs = {\"messages\": [(\"user\", f\"What is the weather in Berlin on {datetime.today()}?\")]}\n",
        "\n",
        "# call our graph with streaming to see the steps\n",
        "for state in graph.stream(inputs, stream_mode=\"values\"):\n",
        "    last_message = state[\"messages\"][-1]\n",
        "    last_message.pretty_print()"
      ],
      "metadata": {
        "colab": {
          "base_uri": "https://localhost:8080/"
        },
        "id": "9I2v5UCZhh8b",
        "outputId": "2280634b-8df3-469b-a316-b873490b81c1"
      },
      "execution_count": 16,
      "outputs": [
        {
          "output_type": "stream",
          "name": "stdout",
          "text": [
            "================================\u001b[1m Human Message \u001b[0m=================================\n",
            "\n",
            "What is the weather in Berlin on 2025-05-17 13:54:18.170742?\n",
            "==================================\u001b[1m Ai Message \u001b[0m==================================\n",
            "Tool Calls:\n",
            "  get_weather_forecast (06a988d8-8f33-4177-b3e8-128a396bf759)\n",
            " Call ID: 06a988d8-8f33-4177-b3e8-128a396bf759\n",
            "  Args:\n",
            "    date: 2025-05-17\n",
            "    location: Berlin\n",
            "=================================\u001b[1m Tool Message \u001b[0m=================================\n",
            "Name: get_weather_forecast\n",
            "\n",
            "{'2025-05-17T00:00': 10.6, '2025-05-17T01:00': 9.5, '2025-05-17T02:00': 9.3, '2025-05-17T03:00': 9.5, '2025-05-17T04:00': 9.2, '2025-05-17T05:00': 9.4, '2025-05-17T06:00': 10.7, '2025-05-17T07:00': 11.9, '2025-05-17T08:00': 13.6, '2025-05-17T09:00': 15.4, '2025-05-17T10:00': 16.0, '2025-05-17T11:00': 16.9, '2025-05-17T12:00': 17.7, '2025-05-17T13:00': 13.8, '2025-05-17T14:00': 12.6, '2025-05-17T15:00': 12.2, '2025-05-17T16:00': 12.8, '2025-05-17T17:00': 12.9, '2025-05-17T18:00': 12.5, '2025-05-17T19:00': 11.5, '2025-05-17T20:00': 10.7, '2025-05-17T21:00': 10.1, '2025-05-17T22:00': 9.4, '2025-05-17T23:00': 8.8}\n",
            "==================================\u001b[1m Ai Message \u001b[0m==================================\n",
            "\n",
            "The weather in Berlin on 2025-05-17 at 13:00 will be 13.8 degrees.\n"
          ]
        }
      ]
    },
    {
      "cell_type": "code",
      "source": [
        "state[\"messages\"].append((\"user\", \"Would it be in Munich warmer?\"))\n",
        "\n",
        "for state in graph.stream(state, stream_mode=\"values\"):\n",
        "    last_message = state[\"messages\"][-1]\n",
        "    last_message.pretty_print()"
      ],
      "metadata": {
        "colab": {
          "base_uri": "https://localhost:8080/"
        },
        "id": "gHWtgWKThjSX",
        "outputId": "c01eb3ff-c7cc-4c42-c34f-720a1f733c41"
      },
      "execution_count": 17,
      "outputs": [
        {
          "output_type": "stream",
          "name": "stdout",
          "text": [
            "================================\u001b[1m Human Message \u001b[0m=================================\n",
            "\n",
            "Would it be in Munich warmer?\n",
            "==================================\u001b[1m Ai Message \u001b[0m==================================\n",
            "Tool Calls:\n",
            "  get_weather_forecast (a15cd27d-11cb-47a4-bdb4-b5ae1465372f)\n",
            " Call ID: a15cd27d-11cb-47a4-bdb4-b5ae1465372f\n",
            "  Args:\n",
            "    date: 2025-05-17\n",
            "    location: Munich\n",
            "=================================\u001b[1m Tool Message \u001b[0m=================================\n",
            "Name: get_weather_forecast\n",
            "\n",
            "{'2025-05-17T00:00': 9.8, '2025-05-17T01:00': 9.7, '2025-05-17T02:00': 9.4, '2025-05-17T03:00': 8.9, '2025-05-17T04:00': 8.5, '2025-05-17T05:00': 8.8, '2025-05-17T06:00': 9.6, '2025-05-17T07:00': 10.8, '2025-05-17T08:00': 12.2, '2025-05-17T09:00': 13.0, '2025-05-17T10:00': 14.0, '2025-05-17T11:00': 14.8, '2025-05-17T12:00': 15.7, '2025-05-17T13:00': 16.6, '2025-05-17T14:00': 16.9, '2025-05-17T15:00': 17.0, '2025-05-17T16:00': 16.8, '2025-05-17T17:00': 16.7, '2025-05-17T18:00': 15.5, '2025-05-17T19:00': 13.6, '2025-05-17T20:00': 12.7, '2025-05-17T21:00': 12.0, '2025-05-17T22:00': 11.0, '2025-05-17T23:00': 10.8}\n",
            "==================================\u001b[1m Ai Message \u001b[0m==================================\n",
            "\n",
            "The weather in Munich on 2025-05-17 at 13:00 will be 16.6 degrees. So it will be warmer in Munich.\n"
          ]
        }
      ]
    },
    {
      "cell_type": "code",
      "source": [],
      "metadata": {
        "id": "37mywwvDhrfv"
      },
      "execution_count": null,
      "outputs": []
    }
  ]
}